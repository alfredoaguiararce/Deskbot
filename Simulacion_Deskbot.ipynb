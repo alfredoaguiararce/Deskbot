{
 "cells": [
  {
   "cell_type": "markdown",
   "metadata": {},
   "source": [
    "## Desarrollo de algoritmo para simulación.\n",
    "<br>\n",
    "<p>El desarrollo de este algoritmo fue llevado a cabo durante el semestre agosto-diciembre 2020, como parte de la asignatura de robotica.</p>\n",
    "<br>\n",
    "<p>\n",
    "    <li>Alumno : Jose Alfredo de Jesus Aguiar Arce.</li>\n",
    "    <li>Numero de control : 15400806.</li>\n",
    "    <li>Materia : Robotica.</li>\n",
    "    <li>Maestro : Dr. Antonio Guzman Navarrete.</li>\n",
    "</p>\n",
    "\n",
    "<br>Requiere que los archivos 'sim.py', 'simConst.py', 'remoteapi.dll' estén alojados en la misma carpeta que este cuaderno de Jupyter.\n",
    "<br>Desde CoppeliaSim, abrir la escena 'DeskBot_scena.ttt'\n",
    "\n",
    "### Instrucciones para preparar la simulacion.\n",
    "<br>1. Abra la escena 'DeskBot_scena.ttt'\n",
    "<br>2. Seleccionando la base del robot desde la jerarquía de escena, presione botón derecho del mouse y agregue un archivo de script mediante <b> Add -> Associated child script -> Non threaded </b>. Aparecerá un pequeño ícono de documento junto al nombre del robot en la escena de jerarquía.\n",
    "<br>3. En el script es posible incluir código de programación, escritos en lenguaje LUA. Para nuestro caso, todo el código que requeriremos es habilitar el API remoto, asignando un puerto de comunicación. En la función <b>sysCall_init()</b> agregue la siguiente línea:\n",
    "<br> \n",
    "<font face = \"Monospace\"> <pre> simRemoteApi.start(19999)</font>\n",
    "<br> Proceda a continuación con las actividades:"
   ]
  },
  {
   "cell_type": "code",
   "execution_count": 1,
   "metadata": {},
   "outputs": [],
   "source": [
    "# importamos las librerías necesarias\n",
    "import sim          # librería para conectar con CoppeliaSim\n",
    "import sympy as sp  # librería para cálculo simbólico\n",
    "import numpy as np"
   ]
  },
  {
   "cell_type": "markdown",
   "metadata": {},
   "source": [
    "<p>Configuraciones del servidor local</p>"
   ]
  },
  {
   "cell_type": "code",
   "execution_count": 2,
   "metadata": {},
   "outputs": [],
   "source": [
    "#Variables para configurar entorno del servidor y port\n",
    "localhost = '127.0.0.1'  #Servidor local de la computadora\n",
    "port = 19999  #Puerto para coneccion con V-rep"
   ]
  },
  {
   "cell_type": "markdown",
   "metadata": {},
   "source": [
    "### Configuramos el servidor y el port\n",
    "\n",
    "El siguiente codigo deberia ejecutarse una vez que se presiona play en la simulacion, de funcionar correctamente el cliente quedara conectado con la API de V-rep."
   ]
  },
  {
   "cell_type": "code",
   "execution_count": 3,
   "metadata": {},
   "outputs": [],
   "source": [
    "def connect(port):\n",
    "# Establece la conexión a VREP\n",
    "# port debe coincidir con el puerto de conexión en VREP\n",
    "# retorna el número de cliente o -1 si no puede establecer conexión\n",
    "    sim.simxFinish(-1) # Cierra ports abiertos en caso de haber\n",
    "    clientID=sim.simxStart(localhost,port,True,True,2000,5) # Conectarse\n",
    "    if clientID == 0: print(\"conectado a\", port)\n",
    "    else: print(\"no se pudo conectar\")\n",
    "    return clientID\n"
   ]
  },
  {
   "cell_type": "code",
   "execution_count": 143,
   "metadata": {},
   "outputs": [
    {
     "name": "stdout",
     "output_type": "stream",
     "text": [
      "conectado a 19999\n"
     ]
    }
   ],
   "source": [
    "# Requerimos los manejadores para las articulaciones y el Dummy\n",
    "clientID = connect(19999)"
   ]
  },
  {
   "cell_type": "markdown",
   "metadata": {},
   "source": [
    "### Configuramos el programa y obtenemos objetos de la simulacion.\n",
    "\n",
    "obtendermos las juntas y objetos de la simulacion para asignarlos a variables con las que nos podremos referir en el codigo.\n",
    "De esta forma trabajaremos con POO (Programacion Orientada a Objetos) en nuestro programa."
   ]
  },
  {
   "cell_type": "code",
   "execution_count": 109,
   "metadata": {},
   "outputs": [
    {
     "name": "stdout",
     "output_type": "stream",
     "text": [
      "El nombre en la simulacion de la junta revoluta del eslabon 1 debe ser eslabon_1\n",
      "El nombre en la simulacion de la junta revoluta del eslabon 2 debe ser eslabon_2\n",
      "El nombre en la simulacion de la junta prismatica de la corredera debe ser Corredera, limite minimo : -20 mts, limite maximo 20\n",
      "El nombre en la simulacion de la junta prismatica del efector final debe ser efector_final, limite minimo : -4 mts, limite maximo 4\n"
     ]
    }
   ],
   "source": [
    "#Variables para configurar entorno \n",
    "#Estas variables se agregaron dado que la simulacion fuera a modificarse y por ende sus valores \n",
    "#tales como rangos de juntas prismaticas, nombres de juntas etc.\n",
    "\n",
    "#Como esta nombrada la junta revoluta de dicho eslabon\n",
    "nombre_junta_eslabon_1 = 'eslabon_1' #la primera junta revoluta acoplada a la corredera\n",
    "nombre_junta_eslabon_2 = 'eslabon_2' #la segunda junta revoluta acoplada a el eslabon anterior\n",
    "\n",
    "#Como esta nombrada la junta prismatica de dicho eslabon\n",
    "nombre_junta_corredera = 'Corredera'\n",
    "nombre_junta_efector = 'junta_efector'\n",
    "\n",
    "#Valores de los rangos minimos y maximos de juntas prismaticas (en metros) dado que las funciones se encargan\n",
    "#de transformar en decimales necesarios \n",
    "min_corredera,max_corredera = [0,30]\n",
    "min_efector,max_efector = [-4,4]\n",
    "\n",
    "print(f'El nombre en la simulacion de la junta revoluta del eslabon 1 debe ser {nombre_junta_eslabon_1}')\n",
    "print(f'El nombre en la simulacion de la junta revoluta del eslabon 2 debe ser {nombre_junta_eslabon_2}')\n",
    "print(f'El nombre en la simulacion de la junta prismatica de la corredera debe ser {nombre_junta_corredera}, limite minimo : {min_corredera} mts, limite maximo {max_corredera}')\n",
    "print(f'El nombre en la simulacion de la junta prismatica del efector final debe ser {nombre_junta_efector}, limite minimo : {min_efector} mts, limite maximo {max_efector}')"
   ]
  },
  {
   "cell_type": "code",
   "execution_count": 110,
   "metadata": {},
   "outputs": [
    {
     "name": "stdout",
     "output_type": "stream",
     "text": [
      "EL ID de junta_1 = 17, el ID de junta_2 = 18\n",
      "El ID de corredera es = 16, el ID del efector final es 19\n"
     ]
    }
   ],
   "source": [
    "#Manejadores de juntas revolutas\n",
    "\n",
    "# Obtenemos el manejador de las juntas (joints), y se asignaran a una variable\n",
    "returnCode,junta_1 = sim.simxGetObjectHandle(clientID,nombre_junta_eslabon_1,sim.simx_opmode_blocking)\n",
    "returnCode,junta_2 = sim.simxGetObjectHandle(clientID,nombre_junta_eslabon_2,sim.simx_opmode_blocking)\n",
    "#Imprimimos los id de cada junta\n",
    "print(f\"EL ID de junta_1 = {junta_1}, el ID de junta_2 = {junta_2}\")\n",
    "\n",
    "\n",
    "#Manejadores de juntas prismaticas\n",
    "\n",
    "#Obtenemos el manejador de la corredera que se coloca en la base\n",
    "returnCode,corredera = sim.simxGetObjectHandle(clientID,nombre_junta_corredera,sim.simx_opmode_blocking)\n",
    "#Obtenemos el manejador del efector final\n",
    "returnCode,efector_cilindro = sim.simxGetObjectHandle(clientID,nombre_junta_efector,sim.simx_opmode_blocking)\n",
    "#Imprimimos el id de cada junta\n",
    "print(f\"El ID de corredera es = {corredera}, el ID del efector final es {efector_cilindro}\")"
   ]
  },
  {
   "cell_type": "markdown",
   "metadata": {},
   "source": [
    "### Posicionamiento en el simulador\n",
    "\n",
    "Funciones y demostraciones sobre el como se realiza la simulacion sin entrar en detalles de cinematica aun.\n",
    "Son las funciones necesarias para modificar en la simulacion posiciones."
   ]
  },
  {
   "cell_type": "code",
   "execution_count": 80,
   "metadata": {},
   "outputs": [
    {
     "name": "stdout",
     "output_type": "stream",
     "text": [
      "0\n"
     ]
    }
   ],
   "source": [
    "#la posicion para juntas revolutas se asignara mediante grados \n",
    "#Los angulos deben enviarse en radianes, dado que se trabaja con grados se usara la expresion de la manera siguiente\n",
    "# angulo_en_radianes = angulo_en_grados * pi / 180\n",
    "\n",
    "angulo_1 = 0 * np.pi/180  #El angulo convertido a radianes para la junta 1.\n",
    "angulo_2 = 0* np.pi/180 #El angulo convertido a radianes para la junta 2.\n",
    "\n",
    "retCode = sim.simxSetJointTargetPosition(clientID, junta_1, angulo_1, sim.simx_opmode_oneshot)\n",
    "retCode = sim.simxSetJointTargetPosition(clientID, junta_2, angulo_2, sim.simx_opmode_oneshot)\n",
    "\n",
    "#La posicion para juntas prismaticas se asignara representada en distancia.\n",
    "#La distancia debe ser representada entre [pos.min] y [pos.range] , ambos parametros que se han definido en la simulacion, \n",
    "#asignados al elemento (joint) corredera.\n",
    "\n",
    "#Dado que se debe encontrar expresado en Metros la ecuacion sera la siguiente\n",
    "#distancia_en_metros = distancia / 100\n",
    "#Para esta configuracion distancia debe ir de 'min_corredera' hasta 'max_corredera' en el caso de la corredera\n",
    "distancia = 0 / 100 \n",
    "#Para esta configuracion distancia debe ir de 'min_efector' hasta 'max_efector' en el caso del efector final\n",
    "distancia_efector = -4 / 100 \n",
    "\n",
    "retCode = sim.simxSetJointTargetPosition(clientID, corredera,distancia, sim.simx_opmode_oneshot)\n",
    "retCode = sim.simxSetJointTargetPosition(clientID, efector_cilindro,distancia_efector, sim.simx_opmode_oneshot)\n",
    "print(retCode)"
   ]
  },
  {
   "cell_type": "markdown",
   "metadata": {},
   "source": [
    "Dadas las observaciones anteriores se escribieron dos metodos para ahorrar escritura y simplificar la implementacion"
   ]
  },
  {
   "cell_type": "code",
   "execution_count": 145,
   "metadata": {},
   "outputs": [
    {
     "data": {
      "text/plain": [
       "0"
      ]
     },
     "execution_count": 145,
     "metadata": {},
     "output_type": "execute_result"
    }
   ],
   "source": [
    "def mover_junta_revoluta(junta,angulo):\n",
    "    \"\"\"\n",
    "    Esta funcion permite realizar una rotacion en la junta revoluta desde el angulo actual hasta el deseado (grados)\n",
    "    \"\"\"\n",
    "    radianes = angulo * np.pi/180\n",
    "    \n",
    "    #Regresa 0 si se ejecuta correctamente\n",
    "    return sim.simxSetJointTargetPosition(clientID, junta, radianes, sim.simx_opmode_oneshot) \n",
    "\n",
    "#Ejemplo de como se usa este metodo\n",
    "mover_junta_revoluta(junta_1,-90)\n",
    "mover_junta_revoluta(junta_2,90)\n",
    "\n",
    "def mover_junta_prismatica(junta,distancia_desde_origen):\n",
    "    \"\"\"\n",
    "    Esta funcion permite realizar un dezplazamiento en la junta prismatica (debe estar expresada en centimetros)\n",
    "    en un rango entre [Pos Min - Pos Range] de la junta prismatica en cuestion\n",
    "    \"\"\"\n",
    "    \n",
    "    distancia = distancia_desde_origen / 100\n",
    "    #Regresa 0 si se ejecuta correctamente\n",
    "    return sim.simxSetJointTargetPosition(clientID, junta,distancia, sim.simx_opmode_oneshot)\n",
    "\n",
    "#Ejemplo de como se usa este metodo\n",
    "mover_junta_prismatica(corredera,20)\n",
    "mover_junta_prismatica(efector_cilindro,4)"
   ]
  },
  {
   "cell_type": "markdown",
   "metadata": {},
   "source": [
    "Algunas utilidades realizadas para facilitar la escritura de posiciones comunes"
   ]
  },
  {
   "cell_type": "code",
   "execution_count": 148,
   "metadata": {},
   "outputs": [],
   "source": [
    "def abajo_corredera():\n",
    "    \"\"\"\n",
    "    Envia la corredera a su posicion minima, en el eje Z.\n",
    "    \"\"\"\n",
    "    mover_junta_prismatica(corredera,min_corredera)\n",
    "\n",
    "\n",
    "def arriba_corredera():\n",
    "    \"\"\"\n",
    "    Envia la corredera a su posicion maxima, en el eje Z.\n",
    "    \"\"\"\n",
    "    mover_junta_prismatica(corredera,min_corredera)\n",
    "\n",
    "def abrir_efector():\n",
    "    \"\"\"\n",
    "    activa el efector , es decir lo baja.\n",
    "    \"\"\"\n",
    "    mover_junta_prismatica(efector_cilindro,min_efector)\n",
    "\n",
    "def cerrar_efector():\n",
    "    \"\"\"\n",
    "    desactiva el efector , es decir lo sube. \n",
    "    \"\"\"\n",
    "    mover_junta_prismatica(efector_cilindro,max_efector)\n",
    "\n",
    "\n",
    "def reiniciar_robot():\n",
    "    \"\"\"\n",
    "    Deja el robot en su posicion inicial \n",
    "    \"\"\"\n",
    "    cerrar_efector()\n",
    "    abajo_corredera()\n",
    "    mover_junta_revoluta(junta_1,0)\n",
    "    mover_junta_revoluta(junta_2,0)\n"
   ]
  },
  {
   "cell_type": "markdown",
   "metadata": {},
   "source": [
    "## Cinematica directa del modelo por D-H\n",
    "\n",
    "Se realiza un algoritmo de Denavit-Hartenberg para resolver el modelo cinematico directo del robot."
   ]
  },
  {
   "cell_type": "markdown",
   "metadata": {},
   "source": [
    "#### 1.- Librerias utilizadas para calculos simbolicos"
   ]
  },
  {
   "cell_type": "code",
   "execution_count": 3,
   "metadata": {},
   "outputs": [],
   "source": [
    "# importamos las librerías necesarias\n",
    "import sim          # librería para conectar con CoppeliaSim\n",
    "import sympy as sp  # librería para cálculo simbólico\n",
    "import numpy as np\n",
    "\n",
    "from sympy.physics.vector import init_vprinting\n",
    "init_vprinting(use_latex='mathjax', pretty_print=False)\n",
    "from sympy.physics.mechanics import dynamicsymbols"
   ]
  },
  {
   "cell_type": "markdown",
   "metadata": {},
   "source": [
    "#### 2.- Variables simbolicas"
   ]
  },
  {
   "cell_type": "code",
   "execution_count": 4,
   "metadata": {},
   "outputs": [
    {
     "data": {
      "text/latex": [
       "$\\displaystyle \\left( \\theta, \\  \\alpha, \\  a, \\  d\\right)$"
      ],
      "text/plain": [
       "(theta, alpha, a, d)"
      ]
     },
     "execution_count": 4,
     "metadata": {},
     "output_type": "execute_result"
    }
   ],
   "source": [
    "#Variables simbolicas para la obtencion de la matriz DH\n",
    "theta, alpha, a, d = dynamicsymbols('theta alpha a d')\n",
    "#Imprimimos las variables\n",
    "theta, alpha, a, d "
   ]
  },
  {
   "cell_type": "markdown",
   "metadata": {},
   "source": [
    "#### 3.- Matrices de rotacion y obtencion de matriz D-H"
   ]
  },
  {
   "cell_type": "code",
   "execution_count": 5,
   "metadata": {},
   "outputs": [
    {
     "data": {
      "text/latex": [
       "$\\displaystyle \\left[\\begin{matrix}\\operatorname{cos}\\left(\\theta\\right) & - \\operatorname{sin}\\left(\\theta\\right) \\operatorname{cos}\\left(\\alpha\\right) & \\operatorname{sin}\\left(\\alpha\\right) \\operatorname{sin}\\left(\\theta\\right) & a \\operatorname{cos}\\left(\\theta\\right)\\\\\\operatorname{sin}\\left(\\theta\\right) & \\operatorname{cos}\\left(\\alpha\\right) \\operatorname{cos}\\left(\\theta\\right) & - \\operatorname{sin}\\left(\\alpha\\right) \\operatorname{cos}\\left(\\theta\\right) & a \\operatorname{sin}\\left(\\theta\\right)\\\\0 & \\operatorname{sin}\\left(\\alpha\\right) & \\operatorname{cos}\\left(\\alpha\\right) & d\\\\0 & 0 & 0 & 1\\end{matrix}\\right]$"
      ],
      "text/plain": [
       "Matrix([\n",
       "[cos(theta), -sin(theta)*cos(alpha),  sin(alpha)*sin(theta), a*cos(theta)],\n",
       "[sin(theta),  cos(alpha)*cos(theta), -sin(alpha)*cos(theta), a*sin(theta)],\n",
       "[         0,             sin(alpha),             cos(alpha),            d],\n",
       "[         0,                      0,                      0,            1]])"
      ]
     },
     "execution_count": 5,
     "metadata": {},
     "output_type": "execute_result"
    }
   ],
   "source": [
    "#Definimos las matrices de rotacion y traslacion correspondientes\n",
    "\n",
    "#Rotacion en Z\n",
    "rz = sp.Matrix([[sp.cos(theta),-sp.sin(theta),0,0],\n",
    "               [sp.sin(theta),sp.cos(theta),0,0],\n",
    "               [0,0,1,0],\n",
    "               [0,0,0,1]])\n",
    "\n",
    "#Traslacion en Z\n",
    "tz = sp.Matrix([[1,0,0,0],\n",
    "               [0,1,0,0],\n",
    "               [0,0,1,d],\n",
    "               [0,0,0,1]])\n",
    "\n",
    "#Traslacion en X\n",
    "tx = sp.Matrix([[1,0,0,a],\n",
    "               [0,1,0,0],\n",
    "               [0,0,1,0],\n",
    "               [0,0,0,1]])\n",
    "\n",
    "#Rotacion en X\n",
    "rx = sp.Matrix([[1,0,0,0],\n",
    "               [0,sp.cos(alpha),-sp.sin(alpha),0],\n",
    "               [0,sp.sin(alpha),sp.cos(alpha),0],\n",
    "               [0,0,0,1]])\n",
    "\n",
    "#Matriz de rotacion de parametros D-H\n",
    "DH = rz*tz*tx*rx\n",
    "#Se muestra la matriz A resultado de la operacion anterior\n",
    "DH"
   ]
  },
  {
   "cell_type": "markdown",
   "metadata": {},
   "source": [
    "#### 4.- Agregamos de uno en uno los grados de libertad correspondientes.\n",
    "\n",
    "Se sustituyen la matriz D-H los parametros theta,d,a,alpha.\n",
    "<br>En base a la tabla obtenida por nosotros mismos referente al robot diseñado\n",
    "<br><br>\n",
    "Donde : \n",
    "<p>\n",
    "    <li>theta = La rotacion en Z.</li>\n",
    "    <li>d = Desplazamiento en Z.</li>\n",
    "    <li>a = Desplazamiento en X.</li>\n",
    "    <li>alpha = La rotacion en X.</li>\n",
    "</p>"
   ]
  },
  {
   "cell_type": "code",
   "execution_count": 6,
   "metadata": {},
   "outputs": [
    {
     "data": {
      "text/latex": [
       "$\\displaystyle \\left( l_{1}, \\  \\theta_{2}, \\  d_{2}, \\  \\theta_{3}, \\  d_{3}, \\  l_{4}\\right)$"
      ],
      "text/plain": [
       "(l1, theta2, d2, theta3, d3, l4)"
      ]
     },
     "execution_count": 6,
     "metadata": {},
     "output_type": "execute_result"
    }
   ],
   "source": [
    "#Variables simbolicas para sustituir en la matriz homogenea (DH)\n",
    "l1, theta2, d2, theta3, d3, l4 = dynamicsymbols('l1 theta2 d2 theta3 d3 l4')\n",
    "#Imprimimos las variables\n",
    "l1, theta2, d2, theta3, d3, l4"
   ]
  },
  {
   "cell_type": "markdown",
   "metadata": {},
   "source": [
    "De estas variables se obserba lo siguiente : \n",
    "\n",
    "<p>\n",
    "    <li>l1 = La distancia que recorre la corredera en el eje Z. </li>\n",
    "    <li>theta2 = La rotacion en el eje Z que realiza el eslabon 1. </li>\n",
    "    <li>d2 = El desplazamiento en X que recorre el eslabon 1. </li>\n",
    "    <li>theta3 = La rotacion en el eje Z que realiza el eslabon 2. </li>\n",
    "    <li>d3 = El desplazamiento en X que recorre el eslabon 2. </li>\n",
    "    <li>l4 = La distancia que recorre el efector final en el eje Z. </li>"
   ]
  },
  {
   "cell_type": "markdown",
   "metadata": {},
   "source": [
    "##### Eslabon corredera"
   ]
  },
  {
   "cell_type": "code",
   "execution_count": 7,
   "metadata": {},
   "outputs": [
    {
     "data": {
      "text/latex": [
       "$\\displaystyle \\left[\\begin{matrix}1 & 0 & 0 & 0\\\\0 & 1 & 0 & 0\\\\0 & 0 & 1 & l_{1}\\\\0 & 0 & 0 & 1\\end{matrix}\\right]$"
      ],
      "text/plain": [
       "Matrix([\n",
       "[1, 0, 0,  0],\n",
       "[0, 1, 0,  0],\n",
       "[0, 0, 1, l1],\n",
       "[0, 0, 0,  1]])"
      ]
     },
     "execution_count": 7,
     "metadata": {},
     "output_type": "execute_result"
    }
   ],
   "source": [
    "rot_corredera = DH.subs({theta:0, d:l1, a:0, alpha:0 })\n",
    "#imprimimos la matriz\n",
    "rot_corredera"
   ]
  },
  {
   "cell_type": "markdown",
   "metadata": {},
   "source": [
    "##### Eslabon 1"
   ]
  },
  {
   "cell_type": "code",
   "execution_count": 8,
   "metadata": {
    "scrolled": true
   },
   "outputs": [
    {
     "data": {
      "text/latex": [
       "$\\displaystyle \\left[\\begin{matrix}\\operatorname{cos}\\left(\\theta_{2}\\right) & - \\operatorname{sin}\\left(\\theta_{2}\\right) & 0 & d_{2} \\operatorname{cos}\\left(\\theta_{2}\\right)\\\\\\operatorname{sin}\\left(\\theta_{2}\\right) & \\operatorname{cos}\\left(\\theta_{2}\\right) & 0 & d_{2} \\operatorname{sin}\\left(\\theta_{2}\\right)\\\\0 & 0 & 1 & 0\\\\0 & 0 & 0 & 1\\end{matrix}\\right]$"
      ],
      "text/plain": [
       "Matrix([\n",
       "[cos(theta2), -sin(theta2), 0, d2*cos(theta2)],\n",
       "[sin(theta2),  cos(theta2), 0, d2*sin(theta2)],\n",
       "[          0,            0, 1,              0],\n",
       "[          0,            0, 0,              1]])"
      ]
     },
     "execution_count": 8,
     "metadata": {},
     "output_type": "execute_result"
    }
   ],
   "source": [
    "rot_eslabon1 = DH.subs({theta:theta2, d:0, a:d2, alpha:0 })\n",
    "#imprimimos la matriz\n",
    "rot_eslabon1"
   ]
  },
  {
   "cell_type": "markdown",
   "metadata": {},
   "source": [
    "##### Eslabon 2"
   ]
  },
  {
   "cell_type": "code",
   "execution_count": 9,
   "metadata": {},
   "outputs": [
    {
     "data": {
      "text/latex": [
       "$\\displaystyle \\left[\\begin{matrix}\\operatorname{cos}\\left(\\theta_{3}\\right) & - \\operatorname{sin}\\left(\\theta_{3}\\right) & 0 & d_{3} \\operatorname{cos}\\left(\\theta_{3}\\right)\\\\\\operatorname{sin}\\left(\\theta_{3}\\right) & \\operatorname{cos}\\left(\\theta_{3}\\right) & 0 & d_{3} \\operatorname{sin}\\left(\\theta_{3}\\right)\\\\0 & 0 & 1 & 0\\\\0 & 0 & 0 & 1\\end{matrix}\\right]$"
      ],
      "text/plain": [
       "Matrix([\n",
       "[cos(theta3), -sin(theta3), 0, d3*cos(theta3)],\n",
       "[sin(theta3),  cos(theta3), 0, d3*sin(theta3)],\n",
       "[          0,            0, 1,              0],\n",
       "[          0,            0, 0,              1]])"
      ]
     },
     "execution_count": 9,
     "metadata": {},
     "output_type": "execute_result"
    }
   ],
   "source": [
    "rot_eslabon2 = DH.subs({theta:theta3, d:0, a:d3, alpha:0 })\n",
    "#imprimimos la matriz\n",
    "rot_eslabon2"
   ]
  },
  {
   "cell_type": "markdown",
   "metadata": {},
   "source": [
    "##### Efector final "
   ]
  },
  {
   "cell_type": "code",
   "execution_count": 10,
   "metadata": {},
   "outputs": [
    {
     "data": {
      "text/latex": [
       "$\\displaystyle \\left[\\begin{matrix}1 & 0 & 0 & 0\\\\0 & 1 & 0 & 0\\\\0 & 0 & 1 & l_{4}\\\\0 & 0 & 0 & 1\\end{matrix}\\right]$"
      ],
      "text/plain": [
       "Matrix([\n",
       "[1, 0, 0,  0],\n",
       "[0, 1, 0,  0],\n",
       "[0, 0, 1, l4],\n",
       "[0, 0, 0,  1]])"
      ]
     },
     "execution_count": 10,
     "metadata": {},
     "output_type": "execute_result"
    }
   ],
   "source": [
    "rot_efector = DH.subs({theta:0, d:l4, a:0, alpha:0 })\n",
    "#imprimimos la matriz\n",
    "rot_efector"
   ]
  },
  {
   "cell_type": "markdown",
   "metadata": {},
   "source": [
    "##### Obtencion de matriz homogenea y simplificacion"
   ]
  },
  {
   "cell_type": "code",
   "execution_count": 13,
   "metadata": {},
   "outputs": [
    {
     "data": {
      "text/latex": [
       "$\\displaystyle \\left[\\begin{matrix}- \\operatorname{sin}\\left(\\theta_{2}\\right) \\operatorname{sin}\\left(\\theta_{3}\\right) + \\operatorname{cos}\\left(\\theta_{2}\\right) \\operatorname{cos}\\left(\\theta_{3}\\right) & - \\operatorname{sin}\\left(\\theta_{2}\\right) \\operatorname{cos}\\left(\\theta_{3}\\right) - \\operatorname{sin}\\left(\\theta_{3}\\right) \\operatorname{cos}\\left(\\theta_{2}\\right) & 0 & d_{2} \\operatorname{cos}\\left(\\theta_{2}\\right) - d_{3} \\operatorname{sin}\\left(\\theta_{2}\\right) \\operatorname{sin}\\left(\\theta_{3}\\right) + d_{3} \\operatorname{cos}\\left(\\theta_{2}\\right) \\operatorname{cos}\\left(\\theta_{3}\\right)\\\\\\operatorname{sin}\\left(\\theta_{2}\\right) \\operatorname{cos}\\left(\\theta_{3}\\right) + \\operatorname{sin}\\left(\\theta_{3}\\right) \\operatorname{cos}\\left(\\theta_{2}\\right) & - \\operatorname{sin}\\left(\\theta_{2}\\right) \\operatorname{sin}\\left(\\theta_{3}\\right) + \\operatorname{cos}\\left(\\theta_{2}\\right) \\operatorname{cos}\\left(\\theta_{3}\\right) & 0 & d_{2} \\operatorname{sin}\\left(\\theta_{2}\\right) + d_{3} \\operatorname{sin}\\left(\\theta_{2}\\right) \\operatorname{cos}\\left(\\theta_{3}\\right) + d_{3} \\operatorname{sin}\\left(\\theta_{3}\\right) \\operatorname{cos}\\left(\\theta_{2}\\right)\\\\0 & 0 & 1 & l_{1} + l_{4}\\\\0 & 0 & 0 & 1\\end{matrix}\\right]$"
      ],
      "text/plain": [
       "Matrix([\n",
       "[-sin(theta2)*sin(theta3) + cos(theta2)*cos(theta3), -sin(theta2)*cos(theta3) - sin(theta3)*cos(theta2), 0, d2*cos(theta2) - d3*sin(theta2)*sin(theta3) + d3*cos(theta2)*cos(theta3)],\n",
       "[ sin(theta2)*cos(theta3) + sin(theta3)*cos(theta2), -sin(theta2)*sin(theta3) + cos(theta2)*cos(theta3), 0, d2*sin(theta2) + d3*sin(theta2)*cos(theta3) + d3*sin(theta3)*cos(theta2)],\n",
       "[                                                 0,                                                  0, 1,                                                                  l1 + l4],\n",
       "[                                                 0,                                                  0, 0,                                                                        1]])"
      ]
     },
     "execution_count": 13,
     "metadata": {},
     "output_type": "execute_result"
    }
   ],
   "source": [
    "matriz_homogenea_resultado = (rot_corredera * rot_eslabon1 * rot_eslabon2 * rot_efector)\n",
    "\n",
    "#Imprimimos la matriz final resultado de la ecuacion anterior\n",
    "T = matriz_homogenea_resultado\n",
    "matriz_homogenea_resultado"
   ]
  },
  {
   "cell_type": "code",
   "execution_count": 14,
   "metadata": {},
   "outputs": [
    {
     "data": {
      "text/latex": [
       "$\\displaystyle \\left[\\begin{matrix}\\operatorname{cos}\\left(\\theta_{2} + \\theta_{3}\\right) & - \\operatorname{sin}\\left(\\theta_{2} + \\theta_{3}\\right) & 0 & d_{2} \\operatorname{cos}\\left(\\theta_{2}\\right) + d_{3} \\operatorname{cos}\\left(\\theta_{2} + \\theta_{3}\\right)\\\\\\operatorname{sin}\\left(\\theta_{2} + \\theta_{3}\\right) & \\operatorname{cos}\\left(\\theta_{2} + \\theta_{3}\\right) & 0 & d_{2} \\operatorname{sin}\\left(\\theta_{2}\\right) + d_{3} \\operatorname{sin}\\left(\\theta_{2} + \\theta_{3}\\right)\\\\0 & 0 & 1 & l_{1} + l_{4}\\\\0 & 0 & 0 & 1\\end{matrix}\\right]$"
      ],
      "text/plain": [
       "Matrix([\n",
       "[cos(theta2 + theta3), -sin(theta2 + theta3), 0, d2*cos(theta2) + d3*cos(theta2 + theta3)],\n",
       "[sin(theta2 + theta3),  cos(theta2 + theta3), 0, d2*sin(theta2) + d3*sin(theta2 + theta3)],\n",
       "[                   0,                     0, 1,                                  l1 + l4],\n",
       "[                   0,                     0, 0,                                        1]])"
      ]
     },
     "execution_count": 14,
     "metadata": {},
     "output_type": "execute_result"
    }
   ],
   "source": [
    "matriz_homogenea_simplificada = sp.Matrix([[T[0,0].simplify(), T[0,1].simplify(), T[0,2].simplify(),T[0,3].simplify()],\n",
    "                 [T[1,0].simplify(), T[1,1].simplify(), T[1,2].simplify(),T[1,3].simplify()],\n",
    "                 [T[2,0].simplify(), T[2,1].simplify(), T[2,2].simplify(),T[2,3].simplify()],\n",
    "                 [T[3,0].simplify(), T[3,1].simplify(), T[3,2].simplify(),T[3,3].simplify()]])\n",
    "\n",
    "#Imprimimos la matriz ya simplificada \n",
    "matriz_homogenea_simplificada"
   ]
  },
  {
   "cell_type": "markdown",
   "metadata": {},
   "source": [
    "#### 5.- Obtener las ecuaciones de Cinematica\n",
    "\n",
    "De la matriz obtenida por Denavit Hartenberg (D-H), se obtienen las ecuaciones para cinematrica Directa."
   ]
  },
  {
   "cell_type": "code",
   "execution_count": 15,
   "metadata": {},
   "outputs": [
    {
     "data": {
      "text/latex": [
       "$\\displaystyle \\left[\\begin{matrix}d_{2} \\operatorname{cos}\\left(\\theta_{2}\\right) + d_{3} \\operatorname{cos}\\left(\\theta_{2} + \\theta_{3}\\right)\\\\d_{2} \\operatorname{sin}\\left(\\theta_{2}\\right) + d_{3} \\operatorname{sin}\\left(\\theta_{2} + \\theta_{3}\\right)\\\\l_{1} + l_{4}\\end{matrix}\\right]$"
      ],
      "text/plain": [
       "Matrix([\n",
       "[d2*cos(theta2) + d3*cos(theta2 + theta3)],\n",
       "[d2*sin(theta2) + d3*sin(theta2 + theta3)],\n",
       "[                                 l1 + l4]])"
      ]
     },
     "execution_count": 15,
     "metadata": {},
     "output_type": "execute_result"
    }
   ],
   "source": [
    "#Dado que la ultima columna representa el posicionamiento del robot obtenemos dicho vector\n",
    "posiciones = matriz_homogenea_simplificada[0:3,3] #Vector de posiciones 4 columna de la matriz homogenea\n",
    "\n",
    "#Ecuaciones de posicion x,y,z\n",
    "pos_x = posiciones[0]\n",
    "pos_y = posiciones[1]\n",
    "pos_z = posiciones[2]\n",
    "\n",
    "#Imprimimos el vector de posiciones\n",
    "posiciones"
   ]
  },
  {
   "cell_type": "markdown",
   "metadata": {},
   "source": [
    "De estas ecuaciones de posicion se desprenden las siguientes funciones para obtener su pocision dados los parametros deseados."
   ]
  },
  {
   "cell_type": "code",
   "execution_count": 20,
   "metadata": {},
   "outputs": [],
   "source": [
    "#dado que el desplazamiento en X para ambos eslabones es fijo, pues depende de la longitud como tal del eslabon.\n",
    "d_2 = 200 / 1000 #206 mm\n",
    "d_3 = 200 / 1000 #206 mm\n",
    "\n",
    "#Funciones de cinematica directa del mecanismo\n",
    "def get_posicion_x(angulo_eslabon_1,angulo_eslabon_2):\n",
    "    \"\"\"\n",
    "    Resuelve la ecuacion de posicion en el eje x, y regresa su resultado.\n",
    "    \"\"\"\n",
    "    return  pos_x.subs({d2: d_2 , d3: d_3,  theta2 : angulo_eslabon_1, theta3 : angulo_eslabon_2})\n",
    "\n",
    "def get_posicion_y(angulo_eslabon_1,angulo_eslabon_2):\n",
    "    \"\"\"\n",
    "    Resuelve la ecuacion de posicion en el eje y, y regresa su resultado.\n",
    "    \"\"\"\n",
    "    return  pos_y.subs({d2: d_2 , d3: d_3,  theta2 : angulo_eslabon_1, theta3 : angulo_eslabon_2})\n",
    "\n",
    "def get_posicion_z(desplazamiento_corredera, desplazamiento_efector_final):\n",
    "    \"\"\"\n",
    "    Resuelve la ecuacion de posicion en el eje z, y regresa su resultado.\n",
    "    \"\"\"\n",
    "    return  pos_z.subs({l1 : desplazamiento_corredera, l4 : desplazamiento_efector_final})\n",
    "\n",
    "def get_posicion_cinematica_directa(angulo_eslabon_1,angulo_eslabon_2,desplazamiento_corredera,desplazamiento_efector_final):\n",
    "    \n",
    "    vector_posicion_final = sp.Matrix([[get_posicion_x(angulo_eslabon_1,angulo_eslabon_2)],\n",
    "                                      [get_posicion_y(angulo_eslabon_1,angulo_eslabon_2)],\n",
    "                                      [get_posicion_z(desplazamiento_corredera,desplazamiento_efector_final)]])\n",
    "    return vector_posicion_final\n",
    "\n",
    "T = get_posicion_cinematica_directa(0,0,0,0)"
   ]
  },
  {
   "cell_type": "code",
   "execution_count": 21,
   "metadata": {},
   "outputs": [
    {
     "data": {
      "text/latex": [
       "$\\displaystyle \\left[\\begin{matrix}0.4\\\\0\\\\0\\end{matrix}\\right]$"
      ],
      "text/plain": [
       "Matrix([\n",
       "[0.4],\n",
       "[  0],\n",
       "[  0]])"
      ]
     },
     "execution_count": 21,
     "metadata": {},
     "output_type": "execute_result"
    }
   ],
   "source": [
    "T"
   ]
  }
 ],
 "metadata": {
  "kernelspec": {
   "display_name": "Python 3",
   "language": "python",
   "name": "python3"
  },
  "language_info": {
   "codemirror_mode": {
    "name": "ipython",
    "version": 3
   },
   "file_extension": ".py",
   "mimetype": "text/x-python",
   "name": "python",
   "nbconvert_exporter": "python",
   "pygments_lexer": "ipython3",
   "version": "3.7.6"
  }
 },
 "nbformat": 4,
 "nbformat_minor": 2
}
