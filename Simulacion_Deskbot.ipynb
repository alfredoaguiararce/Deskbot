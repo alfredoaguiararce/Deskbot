{
 "cells": [
  {
   "cell_type": "markdown",
   "metadata": {},
   "source": [
    "## Desarrollo de algoritmo para simulación.\n",
    "<br>\n",
    "<p>El desarrollo de este algoritmo fue llevado a cabo durante el semestre agosto-diciembre 2020, como parte de la asignatura de robotica.</p>\n",
    "<br>\n",
    "<p>\n",
    "    <li>Alumno : Jose Alfredo de Jesus Aguiar Arce.</li>\n",
    "    <li>Numero de control : 15400806.</li>\n",
    "    <li>Materia : Robotica.</li>\n",
    "    <li>Maestro : Dr. Antonio Guzman Navarrete.</li>\n",
    "</p>\n",
    "\n",
    "<br>Requiere que los archivos 'sim.py', 'simConst.py', 'remoteapi.dll' estén alojados en la misma carpeta que este cuaderno de Jupyter.\n",
    "<br>Desde CoppeliaSim, abrir la escena 'DeskBot_scena.ttt'\n",
    "\n",
    "### Instrucciones para preparar la simulacion.\n",
    "<br>1. Abra la escena 'DeskBot_scena.ttt'\n",
    "<br>2. Seleccionando la base del robot desde la jerarquía de escena, presione botón derecho del mouse y agregue un archivo de script mediante <b> Add -> Associated child script -> Non threaded </b>. Aparecerá un pequeño ícono de documento junto al nombre del robot en la escena de jerarquía.\n",
    "<br>3. En el script es posible incluir código de programación, escritos en lenguaje LUA. Para nuestro caso, todo el código que requeriremos es habilitar el API remoto, asignando un puerto de comunicación. En la función <b>sysCall_init()</b> agregue la siguiente línea:\n",
    "<br> \n",
    "<font face = \"Monospace\"> <pre> simRemoteApi.start(19999)</font>\n",
    "<br> Proceda a continuación con las actividades:"
   ]
  },
  {
   "cell_type": "markdown",
   "metadata": {},
   "source": [
    "# Seccion 1.- Simulacion y coneccion con coppelia."
   ]
  },
  {
   "cell_type": "code",
   "execution_count": 50,
   "metadata": {},
   "outputs": [],
   "source": [
    "# importamos las librerías necesarias\n",
    "import sim          # librería para conectar con CoppeliaSim\n",
    "import sympy as sp  # librería para cálculo simbólico\n",
    "import numpy as np"
   ]
  },
  {
   "cell_type": "markdown",
   "metadata": {},
   "source": [
    "<p>Configuraciones del servidor local</p>"
   ]
  },
  {
   "cell_type": "code",
   "execution_count": 51,
   "metadata": {},
   "outputs": [],
   "source": [
    "#Variables para configurar entorno del servidor y port\n",
    "localhost = '127.0.0.1'  #Servidor local de la computadora\n",
    "port = 19999  #Puerto para coneccion con V-rep"
   ]
  },
  {
   "cell_type": "markdown",
   "metadata": {},
   "source": [
    "### Configuramos el servidor y el port\n",
    "\n",
    "El siguiente codigo deberia ejecutarse una vez que se presiona play en la simulacion, de funcionar correctamente el cliente quedara conectado con la API de V-rep."
   ]
  },
  {
   "cell_type": "code",
   "execution_count": 52,
   "metadata": {},
   "outputs": [],
   "source": [
    "def connect(port):\n",
    "# Establece la conexión a VREP\n",
    "# port debe coincidir con el puerto de conexión en VREP\n",
    "# retorna el número de cliente o -1 si no puede establecer conexión\n",
    "    sim.simxFinish(-1) # Cierra ports abiertos en caso de haber\n",
    "    clientID=sim.simxStart(localhost,port,True,True,2000,5) # Conectarse\n",
    "    if clientID == 0: print(\"conectado a\", port)\n",
    "    else: print(\"no se pudo conectar\")\n",
    "    return clientID\n"
   ]
  },
  {
   "cell_type": "code",
   "execution_count": 53,
   "metadata": {},
   "outputs": [
    {
     "name": "stdout",
     "output_type": "stream",
     "text": [
      "conectado a 19999\n"
     ]
    }
   ],
   "source": [
    "# Requerimos los manejadores para las articulaciones y el Dummy\n",
    "clientID = connect(19999)"
   ]
  },
  {
   "cell_type": "markdown",
   "metadata": {},
   "source": [
    "### Configuramos el programa y obtenemos objetos de la simulacion.\n",
    "\n",
    "obtendermos las juntas y objetos de la simulacion para asignarlos a variables con las que nos podremos referir en el codigo.\n",
    "De esta forma trabajaremos con POO (Programacion Orientada a Objetos) en nuestro programa."
   ]
  },
  {
   "cell_type": "code",
   "execution_count": 54,
   "metadata": {},
   "outputs": [
    {
     "name": "stdout",
     "output_type": "stream",
     "text": [
      "El nombre en la simulacion de la junta revoluta del eslabon 1 debe ser \"eslabon_1\"\n",
      "El nombre en la simulacion de la junta revoluta del eslabon 2 debe ser \"eslabon_2\"\n",
      "El nombre en la simulacion de la junta prismatica de la corredera debe ser \"Corredera\", limite minimo : 0 mts, limite maximo 0.3\n",
      "El nombre en la simulacion de la junta prismatica del efector final debe ser \"junta_efector\"\", limite minimo : -0.04 mts, limite maximo 0.04\n",
      "El nombre en la simulacion del dummy para obtner posciones finales como comprobacion es \"posicion_final\"\n"
     ]
    }
   ],
   "source": [
    "#Variables para configurar entorno \n",
    "#Estas variables se agregaron dado que la simulacion fuera a modificarse y por ende sus valores \n",
    "#tales como rangos de juntas prismaticas, nombres de juntas etc.\n",
    "\n",
    "#Como esta nombrada la junta revoluta de dicho eslabon\n",
    "nombre_junta_eslabon_1 = 'eslabon_1' #la primera junta revoluta acoplada a la corredera\n",
    "nombre_junta_eslabon_2 = 'eslabon_2' #la segunda junta revoluta acoplada a el eslabon anterior\n",
    "\n",
    "#Como esta nombrada la junta prismatica de dicho eslabon\n",
    "nombre_junta_corredera = 'Corredera'\n",
    "nombre_junta_efector = 'junta_efector'\n",
    "\n",
    "#Como esta nombrado el dummy que sirve como punto final del efector\n",
    "dummy_posicion = 'posicion_final'\n",
    "\n",
    "#Valores de los rangos minimos y maximos de juntas prismaticas (en metros) dado que las funciones se encargan\n",
    "#de transformar en decimales necesarios \n",
    "min_corredera,max_corredera = [0,0.3]\n",
    "min_efector,max_efector = [-0.04,0.04]\n",
    "\n",
    "print(f'El nombre en la simulacion de la junta revoluta del eslabon 1 debe ser \"{nombre_junta_eslabon_1}\"')\n",
    "print(f'El nombre en la simulacion de la junta revoluta del eslabon 2 debe ser \"{nombre_junta_eslabon_2}\"')\n",
    "print(f'El nombre en la simulacion de la junta prismatica de la corredera debe ser \"{nombre_junta_corredera}\", limite minimo : {min_corredera} mts, limite maximo {max_corredera}')\n",
    "print(f'El nombre en la simulacion de la junta prismatica del efector final debe ser \"{nombre_junta_efector}\"\", limite minimo : {min_efector} mts, limite maximo {max_efector}')\n",
    "print(f'El nombre en la simulacion del dummy para obtner posciones finales como comprobacion es \"{dummy_posicion}\"')"
   ]
  },
  {
   "cell_type": "code",
   "execution_count": 55,
   "metadata": {},
   "outputs": [
    {
     "name": "stdout",
     "output_type": "stream",
     "text": [
      "EL ID de junta_1 = 17, el ID de junta_2 = 18\n",
      "El ID de corredera es = 16, el ID del efector final es 28\n",
      "El ID del dummy es = 29\n"
     ]
    }
   ],
   "source": [
    "#Manejadores de juntas revolutas\n",
    "\n",
    "# Obtenemos el manejador de las juntas (joints), y se asignaran a una variable\n",
    "returnCode,junta_1 = sim.simxGetObjectHandle(clientID,nombre_junta_eslabon_1,sim.simx_opmode_blocking)\n",
    "returnCode,junta_2 = sim.simxGetObjectHandle(clientID,nombre_junta_eslabon_2,sim.simx_opmode_blocking)\n",
    "#Imprimimos los id de cada junta\n",
    "print(f\"EL ID de junta_1 = {junta_1}, el ID de junta_2 = {junta_2}\")\n",
    "\n",
    "\n",
    "#Manejadores de juntas prismaticas\n",
    "\n",
    "#Obtenemos el manejador de la corredera que se coloca en la base\n",
    "returnCode,corredera = sim.simxGetObjectHandle(clientID,nombre_junta_corredera,sim.simx_opmode_blocking)\n",
    "#Obtenemos el manejador del efector final\n",
    "returnCode,efector_cilindro = sim.simxGetObjectHandle(clientID,nombre_junta_efector,sim.simx_opmode_blocking)\n",
    "#Imprimimos el id de cada junta\n",
    "print(f\"El ID de corredera es = {corredera}, el ID del efector final es {efector_cilindro}\")\n",
    "\n",
    "\n",
    "#Manejador del dummy, que funciona para comprobar la posicion final del efector final.\n",
    "\n",
    "returnCode,posicion_dummy = sim.simxGetObjectHandle(clientID,dummy_posicion,sim.simx_opmode_blocking)\n",
    "#Imprimimos el id \n",
    "print(f\"El ID del dummy es = {posicion_dummy}\")"
   ]
  },
  {
   "cell_type": "markdown",
   "metadata": {},
   "source": [
    "### Posicionamiento en el simulador\n",
    "\n",
    "Funciones y demostraciones sobre el como se realiza la simulacion sin entrar en detalles de cinematica aun.\n",
    "Son las funciones necesarias para modificar en la simulacion posiciones."
   ]
  },
  {
   "cell_type": "code",
   "execution_count": 56,
   "metadata": {},
   "outputs": [
    {
     "name": "stdout",
     "output_type": "stream",
     "text": [
      "1\n"
     ]
    }
   ],
   "source": [
    "#la posicion para juntas revolutas se asignara mediante grados \n",
    "#Los angulos deben enviarse en radianes, dado que se trabaja con grados se usara la expresion de la manera siguiente\n",
    "# angulo_en_radianes = angulo_en_grados * pi / 180\n",
    "\n",
    "angulo_1 = 0 * np.pi/180  #El angulo convertido a radianes para la junta 1.\n",
    "angulo_2 = 0* np.pi/180 #El angulo convertido a radianes para la junta 2.\n",
    "\n",
    "retCode = sim.simxSetJointTargetPosition(clientID, junta_1, angulo_1, sim.simx_opmode_oneshot)\n",
    "retCode = sim.simxSetJointTargetPosition(clientID, junta_2, angulo_2, sim.simx_opmode_oneshot)\n",
    "\n",
    "#La posicion para juntas prismaticas se asignara representada en distancia.\n",
    "#La distancia debe ser representada entre [pos.min] y [pos.range] , ambos parametros que se han definido en la simulacion, \n",
    "#asignados al elemento (joint) corredera.\n",
    "\n",
    "#Dado que se debe encontrar expresado en Metros la ecuacion sera la siguiente\n",
    "#distancia_en_metros = distancia / 100\n",
    "#Para esta configuracion distancia debe ir de 'min_corredera' hasta 'max_corredera' en el caso de la corredera\n",
    "distancia = 0\n",
    "#Para esta configuracion distancia debe ir de 'min_efector' hasta 'max_efector' en el caso del efector final\n",
    "distancia_efector = -0.040 \n",
    "\n",
    "retCode = sim.simxSetJointTargetPosition(clientID, corredera,distancia, sim.simx_opmode_oneshot)\n",
    "retCode = sim.simxSetJointTargetPosition(clientID, efector_cilindro,distancia_efector, sim.simx_opmode_oneshot)\n",
    "print(retCode)"
   ]
  },
  {
   "cell_type": "markdown",
   "metadata": {},
   "source": [
    "Dadas las observaciones anteriores se escribieron dos metodos para ahorrar escritura y simplificar la implementacion"
   ]
  },
  {
   "cell_type": "code",
   "execution_count": 57,
   "metadata": {},
   "outputs": [],
   "source": [
    "def mover_junta_revoluta(junta,angulo):\n",
    "    \"\"\"\n",
    "    Esta funcion permite realizar una rotacion en la junta revoluta desde el angulo actual hasta el deseado (grados)\n",
    "    \"\"\"\n",
    "    radianes = angulo * np.pi/180\n",
    "    \n",
    "    #Regresa 0 si se ejecuta correctamente\n",
    "    return sim.simxSetJointTargetPosition(clientID, junta, radianes, sim.simx_opmode_oneshot) \n",
    "\n",
    "#Ejemplo de como se usa este metodo\n",
    "# mover_junta_revoluta(junta_1,-90)\n",
    "# mover_junta_revoluta(junta_2,90)\n",
    "\n",
    "def mover_junta_prismatica(junta,distancia_desde_origen):\n",
    "    \"\"\"\n",
    "    Esta funcion permite realizar un dezplazamiento en la junta prismatica (debe estar expresada en centimetros)\n",
    "    en un rango entre [Pos Min - Pos Range] de la junta prismatica en cuestion\n",
    "    \"\"\"\n",
    "    \n",
    "    distancia = distancia_desde_origen\n",
    "    #Regresa 0 si se ejecuta correctamente\n",
    "    return sim.simxSetJointTargetPosition(clientID, junta,distancia, sim.simx_opmode_oneshot)\n",
    "\n",
    "#Ejemplo de como se usa este metodo\n",
    "# mover_junta_prismatica(corredera,0.2)\n",
    "# mover_junta_prismatica(efector_cilindro,0.04)\n",
    "\n",
    "def get_posicion_dummy():\n",
    "    return sim.simxGetObjectPosition(clientID,posicion_dummy,-1,sim.simx_opmode_streaming);\n",
    "\n",
    "#get_posicion_dummy()"
   ]
  },
  {
   "cell_type": "markdown",
   "metadata": {},
   "source": [
    "Algunas utilidades realizadas para facilitar la escritura de posiciones comunes"
   ]
  },
  {
   "cell_type": "code",
   "execution_count": 58,
   "metadata": {},
   "outputs": [],
   "source": [
    "def abajo_corredera():\n",
    "    \"\"\"\n",
    "    Envia la corredera a su posicion minima, en el eje Z.\n",
    "    \"\"\"\n",
    "    mover_junta_prismatica(corredera,min_corredera)\n",
    "\n",
    "\n",
    "def arriba_corredera():\n",
    "    \"\"\"\n",
    "    Envia la corredera a su posicion maxima, en el eje Z.\n",
    "    \"\"\"\n",
    "    mover_junta_prismatica(corredera,min_corredera)\n",
    "\n",
    "def abrir_efector():\n",
    "    \"\"\"\n",
    "    activa el efector , es decir lo baja.\n",
    "    \"\"\"\n",
    "    mover_junta_prismatica(efector_cilindro,min_efector)\n",
    "\n",
    "def cerrar_efector():\n",
    "    \"\"\"\n",
    "    desactiva el efector , es decir lo sube. \n",
    "    \"\"\"\n",
    "    mover_junta_prismatica(efector_cilindro,max_efector)\n",
    "\n",
    "\n",
    "def reiniciar_robot():\n",
    "    \"\"\"\n",
    "    Deja el robot en su posicion inicial \n",
    "    \"\"\"\n",
    "    cerrar_efector()\n",
    "    abajo_corredera()\n",
    "    mover_junta_revoluta(junta_1,0)\n",
    "    mover_junta_revoluta(junta_2,0)\n",
    "\n",
    "def mover_robot_cinematica_directa(angulo_eslabon_1,angulo_eslabon_2,posicion_corredera,posicion_efector,):\n",
    "    \"\"\"\n",
    "    Este metodo se basa en los metodos que se tocan mas adelante en este documento/codigo, donde obtenidas las ecuaciones de \n",
    "    cinematica directa de consigue obtener una posicion en el efector final, mediante la posicion de todos los grados de libertad. \n",
    "    \"\"\"\n",
    "    #Mover juntas prismaticas\n",
    "    mover_junta_prismatica(corredera,posicion_corredera)\n",
    "    mover_junta_prismatica(efector_cilindro,posicion_efector)\n",
    "    #Mover juntas revolutas\n",
    "    mover_junta_revoluta(junta_1,angulo_eslabon_1)\n",
    "    mover_junta_revoluta(junta_2,angulo_eslabon_2)\n",
    "    \n"
   ]
  },
  {
   "cell_type": "markdown",
   "metadata": {},
   "source": [
    "## Seccion 2.- Obtencion de modelo cinematico directo, ecuaciones y funciones."
   ]
  },
  {
   "cell_type": "markdown",
   "metadata": {},
   "source": [
    "### Cinematica directa del modelo por D-H\n",
    "\n",
    "Se realiza un algoritmo de Denavit-Hartenberg para resolver el modelo cinematico directo del robot."
   ]
  },
  {
   "cell_type": "markdown",
   "metadata": {},
   "source": [
    "#### 1.- Librerias utilizadas para calculos simbolicos"
   ]
  },
  {
   "cell_type": "code",
   "execution_count": 59,
   "metadata": {},
   "outputs": [],
   "source": [
    "# importamos las librerías necesarias\n",
    "import sim          # librería para conectar con CoppeliaSim\n",
    "import sympy as sp  # librería para cálculo simbólico\n",
    "import numpy as np\n",
    "\n",
    "from sympy.physics.vector import init_vprinting\n",
    "init_vprinting(use_latex='mathjax', pretty_print=False)\n",
    "from sympy.physics.mechanics import dynamicsymbols"
   ]
  },
  {
   "cell_type": "markdown",
   "metadata": {},
   "source": [
    "#### 2.- Variables simbolicas"
   ]
  },
  {
   "cell_type": "code",
   "execution_count": 60,
   "metadata": {},
   "outputs": [
    {
     "data": {
      "text/latex": [
       "$\\displaystyle \\left( \\theta, \\  \\alpha, \\  a, \\  d\\right)$"
      ],
      "text/plain": [
       "(theta, alpha, a, d)"
      ]
     },
     "execution_count": 60,
     "metadata": {},
     "output_type": "execute_result"
    }
   ],
   "source": [
    "#Variables simbolicas para la obtencion de la matriz DH\n",
    "theta, alpha, a, d = dynamicsymbols('theta alpha a d')\n",
    "#Imprimimos las variables\n",
    "theta, alpha, a, d "
   ]
  },
  {
   "cell_type": "markdown",
   "metadata": {},
   "source": [
    "#### 3.- Matrices de rotacion y obtencion de matriz D-H"
   ]
  },
  {
   "cell_type": "code",
   "execution_count": 61,
   "metadata": {},
   "outputs": [
    {
     "data": {
      "text/latex": [
       "$\\displaystyle \\left[\\begin{matrix}\\operatorname{cos}\\left(\\theta\\right) & - \\operatorname{sin}\\left(\\theta\\right) \\operatorname{cos}\\left(\\alpha\\right) & \\operatorname{sin}\\left(\\alpha\\right) \\operatorname{sin}\\left(\\theta\\right) & a \\operatorname{cos}\\left(\\theta\\right)\\\\\\operatorname{sin}\\left(\\theta\\right) & \\operatorname{cos}\\left(\\alpha\\right) \\operatorname{cos}\\left(\\theta\\right) & - \\operatorname{sin}\\left(\\alpha\\right) \\operatorname{cos}\\left(\\theta\\right) & a \\operatorname{sin}\\left(\\theta\\right)\\\\0 & \\operatorname{sin}\\left(\\alpha\\right) & \\operatorname{cos}\\left(\\alpha\\right) & d\\\\0 & 0 & 0 & 1\\end{matrix}\\right]$"
      ],
      "text/plain": [
       "Matrix([\n",
       "[cos(theta), -sin(theta)*cos(alpha),  sin(alpha)*sin(theta), a*cos(theta)],\n",
       "[sin(theta),  cos(alpha)*cos(theta), -sin(alpha)*cos(theta), a*sin(theta)],\n",
       "[         0,             sin(alpha),             cos(alpha),            d],\n",
       "[         0,                      0,                      0,            1]])"
      ]
     },
     "execution_count": 61,
     "metadata": {},
     "output_type": "execute_result"
    }
   ],
   "source": [
    "#Definimos las matrices de rotacion y traslacion correspondientes\n",
    "\n",
    "#Rotacion en Z\n",
    "rz = sp.Matrix([[sp.cos(theta),-sp.sin(theta),0,0],\n",
    "               [sp.sin(theta),sp.cos(theta),0,0],\n",
    "               [0,0,1,0],\n",
    "               [0,0,0,1]])\n",
    "\n",
    "#Traslacion en Z\n",
    "tz = sp.Matrix([[1,0,0,0],\n",
    "               [0,1,0,0],\n",
    "               [0,0,1,d],\n",
    "               [0,0,0,1]])\n",
    "\n",
    "#Traslacion en X\n",
    "tx = sp.Matrix([[1,0,0,a],\n",
    "               [0,1,0,0],\n",
    "               [0,0,1,0],\n",
    "               [0,0,0,1]])\n",
    "\n",
    "#Rotacion en X\n",
    "rx = sp.Matrix([[1,0,0,0],\n",
    "               [0,sp.cos(alpha),-sp.sin(alpha),0],\n",
    "               [0,sp.sin(alpha),sp.cos(alpha),0],\n",
    "               [0,0,0,1]])\n",
    "\n",
    "#Matriz de rotacion de parametros D-H\n",
    "DH = rz*tz*tx*rx\n",
    "#Se muestra la matriz A resultado de la operacion anterior\n",
    "DH"
   ]
  },
  {
   "cell_type": "markdown",
   "metadata": {},
   "source": [
    "#### 4.- Agregamos de uno en uno los grados de libertad correspondientes.\n",
    "\n",
    "Se sustituyen la matriz D-H los parametros theta,d,a,alpha.\n",
    "<br>En base a la tabla obtenida por nosotros mismos referente al robot diseñado\n",
    "<br><br>\n",
    "Donde : \n",
    "<p>\n",
    "    <li>theta = La rotacion en Z.</li>\n",
    "    <li>d = Desplazamiento en Z.</li>\n",
    "    <li>a = Desplazamiento en X.</li>\n",
    "    <li>alpha = La rotacion en X.</li>\n",
    "</p>"
   ]
  },
  {
   "cell_type": "code",
   "execution_count": 62,
   "metadata": {},
   "outputs": [
    {
     "data": {
      "text/latex": [
       "$\\displaystyle \\left( l_{1}, \\  d_{1}, \\  \\theta_{2}, \\  d_{2}, \\  \\theta_{3}, \\  d_{3}, \\  l_{4}\\right)$"
      ],
      "text/plain": [
       "(l1, d1, theta2, d2, theta3, d3, l4)"
      ]
     },
     "execution_count": 62,
     "metadata": {},
     "output_type": "execute_result"
    }
   ],
   "source": [
    "#Variables simbolicas para sustituir en la matriz homogenea (DH)\n",
    "l1,d1, theta2, d2, theta3, d3, l4 = dynamicsymbols('l1 d1 theta2 d2 theta3 d3 l4')\n",
    "#Imprimimos las variables\n",
    "l1,d1, theta2, d2, theta3, d3, l4"
   ]
  },
  {
   "cell_type": "markdown",
   "metadata": {},
   "source": [
    "De estas variables se obserba lo siguiente : \n",
    "\n",
    "<p>\n",
    "    <li>l1 = La distancia que recorre la corredera en el eje Z. </li>\n",
    "    <li>theta2 = La rotacion en el eje Z que realiza el eslabon 1. </li>\n",
    "    <li>d2 = El desplazamiento en X que recorre el eslabon 1. </li>\n",
    "    <li>theta3 = La rotacion en el eje Z que realiza el eslabon 2. </li>\n",
    "    <li>d3 = El desplazamiento en X que recorre el eslabon 2. </li>\n",
    "    <li>l4 = La distancia que recorre el efector final en el eje Z. </li>"
   ]
  },
  {
   "cell_type": "markdown",
   "metadata": {},
   "source": [
    "##### Eslabon corredera"
   ]
  },
  {
   "cell_type": "code",
   "execution_count": 63,
   "metadata": {},
   "outputs": [
    {
     "data": {
      "text/latex": [
       "$\\displaystyle \\left[\\begin{matrix}1 & 0 & 0 & d_{1}\\\\0 & 1 & 0 & 0\\\\0 & 0 & 1 & l_{1}\\\\0 & 0 & 0 & 1\\end{matrix}\\right]$"
      ],
      "text/plain": [
       "Matrix([\n",
       "[1, 0, 0, d1],\n",
       "[0, 1, 0,  0],\n",
       "[0, 0, 1, l1],\n",
       "[0, 0, 0,  1]])"
      ]
     },
     "execution_count": 63,
     "metadata": {},
     "output_type": "execute_result"
    }
   ],
   "source": [
    "rot_corredera = DH.subs({theta:0, d:l1, a:d1, alpha:0 })\n",
    "#imprimimos la matriz\n",
    "rot_corredera"
   ]
  },
  {
   "cell_type": "markdown",
   "metadata": {},
   "source": [
    "##### Eslabon 1"
   ]
  },
  {
   "cell_type": "code",
   "execution_count": 64,
   "metadata": {
    "scrolled": true
   },
   "outputs": [
    {
     "data": {
      "text/latex": [
       "$\\displaystyle \\left[\\begin{matrix}\\operatorname{cos}\\left(\\theta_{2}\\right) & - \\operatorname{sin}\\left(\\theta_{2}\\right) & 0 & d_{2} \\operatorname{cos}\\left(\\theta_{2}\\right)\\\\\\operatorname{sin}\\left(\\theta_{2}\\right) & \\operatorname{cos}\\left(\\theta_{2}\\right) & 0 & d_{2} \\operatorname{sin}\\left(\\theta_{2}\\right)\\\\0 & 0 & 1 & 0\\\\0 & 0 & 0 & 1\\end{matrix}\\right]$"
      ],
      "text/plain": [
       "Matrix([\n",
       "[cos(theta2), -sin(theta2), 0, d2*cos(theta2)],\n",
       "[sin(theta2),  cos(theta2), 0, d2*sin(theta2)],\n",
       "[          0,            0, 1,              0],\n",
       "[          0,            0, 0,              1]])"
      ]
     },
     "execution_count": 64,
     "metadata": {},
     "output_type": "execute_result"
    }
   ],
   "source": [
    "rot_eslabon1 = DH.subs({theta:theta2, d:0, a:d2, alpha:0 })\n",
    "#imprimimos la matriz\n",
    "rot_eslabon1"
   ]
  },
  {
   "cell_type": "markdown",
   "metadata": {},
   "source": [
    "##### Eslabon 2"
   ]
  },
  {
   "cell_type": "code",
   "execution_count": 65,
   "metadata": {},
   "outputs": [
    {
     "data": {
      "text/latex": [
       "$\\displaystyle \\left[\\begin{matrix}\\operatorname{cos}\\left(\\theta_{3}\\right) & - \\operatorname{sin}\\left(\\theta_{3}\\right) & 0 & d_{3} \\operatorname{cos}\\left(\\theta_{3}\\right)\\\\\\operatorname{sin}\\left(\\theta_{3}\\right) & \\operatorname{cos}\\left(\\theta_{3}\\right) & 0 & d_{3} \\operatorname{sin}\\left(\\theta_{3}\\right)\\\\0 & 0 & 1 & 0\\\\0 & 0 & 0 & 1\\end{matrix}\\right]$"
      ],
      "text/plain": [
       "Matrix([\n",
       "[cos(theta3), -sin(theta3), 0, d3*cos(theta3)],\n",
       "[sin(theta3),  cos(theta3), 0, d3*sin(theta3)],\n",
       "[          0,            0, 1,              0],\n",
       "[          0,            0, 0,              1]])"
      ]
     },
     "execution_count": 65,
     "metadata": {},
     "output_type": "execute_result"
    }
   ],
   "source": [
    "rot_eslabon2 = DH.subs({theta:theta3, d:0, a:d3, alpha:0 })\n",
    "#imprimimos la matriz\n",
    "rot_eslabon2"
   ]
  },
  {
   "cell_type": "markdown",
   "metadata": {},
   "source": [
    "##### Efector final "
   ]
  },
  {
   "cell_type": "code",
   "execution_count": 66,
   "metadata": {},
   "outputs": [
    {
     "data": {
      "text/latex": [
       "$\\displaystyle \\left[\\begin{matrix}1 & 0 & 0 & 0\\\\0 & 1 & 0 & 0\\\\0 & 0 & 1 & l_{4}\\\\0 & 0 & 0 & 1\\end{matrix}\\right]$"
      ],
      "text/plain": [
       "Matrix([\n",
       "[1, 0, 0,  0],\n",
       "[0, 1, 0,  0],\n",
       "[0, 0, 1, l4],\n",
       "[0, 0, 0,  1]])"
      ]
     },
     "execution_count": 66,
     "metadata": {},
     "output_type": "execute_result"
    }
   ],
   "source": [
    "rot_efector = DH.subs({theta:0, d:l4, a:0, alpha:0 })\n",
    "#imprimimos la matriz\n",
    "rot_efector"
   ]
  },
  {
   "cell_type": "markdown",
   "metadata": {},
   "source": [
    "##### Obtencion de matriz homogenea y simplificacion"
   ]
  },
  {
   "cell_type": "code",
   "execution_count": 67,
   "metadata": {},
   "outputs": [
    {
     "data": {
      "text/latex": [
       "$\\displaystyle \\left[\\begin{matrix}- \\operatorname{sin}\\left(\\theta_{2}\\right) \\operatorname{sin}\\left(\\theta_{3}\\right) + \\operatorname{cos}\\left(\\theta_{2}\\right) \\operatorname{cos}\\left(\\theta_{3}\\right) & - \\operatorname{sin}\\left(\\theta_{2}\\right) \\operatorname{cos}\\left(\\theta_{3}\\right) - \\operatorname{sin}\\left(\\theta_{3}\\right) \\operatorname{cos}\\left(\\theta_{2}\\right) & 0 & d_{1} + d_{2} \\operatorname{cos}\\left(\\theta_{2}\\right) - d_{3} \\operatorname{sin}\\left(\\theta_{2}\\right) \\operatorname{sin}\\left(\\theta_{3}\\right) + d_{3} \\operatorname{cos}\\left(\\theta_{2}\\right) \\operatorname{cos}\\left(\\theta_{3}\\right)\\\\\\operatorname{sin}\\left(\\theta_{2}\\right) \\operatorname{cos}\\left(\\theta_{3}\\right) + \\operatorname{sin}\\left(\\theta_{3}\\right) \\operatorname{cos}\\left(\\theta_{2}\\right) & - \\operatorname{sin}\\left(\\theta_{2}\\right) \\operatorname{sin}\\left(\\theta_{3}\\right) + \\operatorname{cos}\\left(\\theta_{2}\\right) \\operatorname{cos}\\left(\\theta_{3}\\right) & 0 & d_{2} \\operatorname{sin}\\left(\\theta_{2}\\right) + d_{3} \\operatorname{sin}\\left(\\theta_{2}\\right) \\operatorname{cos}\\left(\\theta_{3}\\right) + d_{3} \\operatorname{sin}\\left(\\theta_{3}\\right) \\operatorname{cos}\\left(\\theta_{2}\\right)\\\\0 & 0 & 1 & l_{1} + l_{4}\\\\0 & 0 & 0 & 1\\end{matrix}\\right]$"
      ],
      "text/plain": [
       "Matrix([\n",
       "[-sin(theta2)*sin(theta3) + cos(theta2)*cos(theta3), -sin(theta2)*cos(theta3) - sin(theta3)*cos(theta2), 0, d1 + d2*cos(theta2) - d3*sin(theta2)*sin(theta3) + d3*cos(theta2)*cos(theta3)],\n",
       "[ sin(theta2)*cos(theta3) + sin(theta3)*cos(theta2), -sin(theta2)*sin(theta3) + cos(theta2)*cos(theta3), 0,      d2*sin(theta2) + d3*sin(theta2)*cos(theta3) + d3*sin(theta3)*cos(theta2)],\n",
       "[                                                 0,                                                  0, 1,                                                                       l1 + l4],\n",
       "[                                                 0,                                                  0, 0,                                                                             1]])"
      ]
     },
     "execution_count": 67,
     "metadata": {},
     "output_type": "execute_result"
    }
   ],
   "source": [
    "matriz_homogenea_resultado = (rot_corredera * rot_eslabon1 * rot_eslabon2 * rot_efector)\n",
    "\n",
    "#Imprimimos la matriz final resultado de la ecuacion anterior\n",
    "T = matriz_homogenea_resultado\n",
    "matriz_homogenea_resultado"
   ]
  },
  {
   "cell_type": "code",
   "execution_count": 68,
   "metadata": {},
   "outputs": [
    {
     "data": {
      "text/latex": [
       "$\\displaystyle \\left[\\begin{matrix}\\operatorname{cos}\\left(\\theta_{2} + \\theta_{3}\\right) & - \\operatorname{sin}\\left(\\theta_{2} + \\theta_{3}\\right) & 0 & d_{1} + d_{2} \\operatorname{cos}\\left(\\theta_{2}\\right) + d_{3} \\operatorname{cos}\\left(\\theta_{2} + \\theta_{3}\\right)\\\\\\operatorname{sin}\\left(\\theta_{2} + \\theta_{3}\\right) & \\operatorname{cos}\\left(\\theta_{2} + \\theta_{3}\\right) & 0 & d_{2} \\operatorname{sin}\\left(\\theta_{2}\\right) + d_{3} \\operatorname{sin}\\left(\\theta_{2} + \\theta_{3}\\right)\\\\0 & 0 & 1 & l_{1} + l_{4}\\\\0 & 0 & 0 & 1\\end{matrix}\\right]$"
      ],
      "text/plain": [
       "Matrix([\n",
       "[cos(theta2 + theta3), -sin(theta2 + theta3), 0, d1 + d2*cos(theta2) + d3*cos(theta2 + theta3)],\n",
       "[sin(theta2 + theta3),  cos(theta2 + theta3), 0,      d2*sin(theta2) + d3*sin(theta2 + theta3)],\n",
       "[                   0,                     0, 1,                                       l1 + l4],\n",
       "[                   0,                     0, 0,                                             1]])"
      ]
     },
     "execution_count": 68,
     "metadata": {},
     "output_type": "execute_result"
    }
   ],
   "source": [
    "matriz_homogenea_simplificada = sp.Matrix([[T[0,0].simplify(), T[0,1].simplify(), T[0,2].simplify(),T[0,3].simplify()],\n",
    "                 [T[1,0].simplify(), T[1,1].simplify(), T[1,2].simplify(),T[1,3].simplify()],\n",
    "                 [T[2,0].simplify(), T[2,1].simplify(), T[2,2].simplify(),T[2,3].simplify()],\n",
    "                 [T[3,0].simplify(), T[3,1].simplify(), T[3,2].simplify(),T[3,3].simplify()]])\n",
    "\n",
    "#Imprimimos la matriz ya simplificada \n",
    "matriz_homogenea_simplificada"
   ]
  },
  {
   "cell_type": "markdown",
   "metadata": {},
   "source": [
    "#### 5.- Obtener las ecuaciones de Cinematica\n",
    "\n",
    "De la matriz obtenida por Denavit Hartenberg (D-H), se obtienen las ecuaciones para cinematrica Directa."
   ]
  },
  {
   "cell_type": "code",
   "execution_count": 69,
   "metadata": {},
   "outputs": [
    {
     "data": {
      "text/latex": [
       "$\\displaystyle \\left[\\begin{matrix}d_{1} + d_{2} \\operatorname{cos}\\left(\\theta_{2}\\right) + d_{3} \\operatorname{cos}\\left(\\theta_{2} + \\theta_{3}\\right)\\\\d_{2} \\operatorname{sin}\\left(\\theta_{2}\\right) + d_{3} \\operatorname{sin}\\left(\\theta_{2} + \\theta_{3}\\right)\\\\l_{1} + l_{4}\\end{matrix}\\right]$"
      ],
      "text/plain": [
       "Matrix([\n",
       "[d1 + d2*cos(theta2) + d3*cos(theta2 + theta3)],\n",
       "[     d2*sin(theta2) + d3*sin(theta2 + theta3)],\n",
       "[                                      l1 + l4]])"
      ]
     },
     "execution_count": 69,
     "metadata": {},
     "output_type": "execute_result"
    }
   ],
   "source": [
    "#Dado que la ultima columna representa el posicionamiento del robot obtenemos dicho vector\n",
    "posiciones = matriz_homogenea_simplificada[0:3,3] #Vector de posiciones 4 columna de la matriz homogenea\n",
    "\n",
    "#Ecuaciones de posicion x,y,z\n",
    "pos_x = posiciones[0]\n",
    "pos_y = posiciones[1]\n",
    "pos_z = posiciones[2]\n",
    "\n",
    "#Imprimimos el vector de posiciones\n",
    "posiciones"
   ]
  },
  {
   "cell_type": "markdown",
   "metadata": {},
   "source": [
    "De estas ecuaciones de posicion se desprenden las siguientes funciones para obtener su pocision dados los parametros deseados."
   ]
  },
  {
   "cell_type": "code",
   "execution_count": 70,
   "metadata": {},
   "outputs": [],
   "source": [
    "#dado que el desplazamiento en X para ambos eslabones es fijo, pues depende de la longitud como tal del eslabon.\n",
    "d_1 = (125  + 63.01) / 1000 # 125 mm + 63.01 mm , representan el ajusto de desplazamiento en X sobre la corredera.\n",
    "d_2 = 200 / 1000 #206 mm\n",
    "d_3 = 200 / 1000 #206 mm\n",
    "\n",
    "#Funciones de cinematica directa del mecanismo\n",
    "def get_posicion_x(angulo_eslabon_1,angulo_eslabon_2):\n",
    "    \"\"\"\n",
    "    Resuelve la ecuacion de posicion en el eje x, y regresa su resultado.\n",
    "    \"\"\"\n",
    "    return  pos_x.subs({d1 : d_1, d2: d_2 , d3: d_3,  theta2 : angulo_eslabon_1, theta3 : angulo_eslabon_2})\n",
    "\n",
    "def get_posicion_y(angulo_eslabon_1,angulo_eslabon_2):\n",
    "    \"\"\"\n",
    "    Resuelve la ecuacion de posicion en el eje y, y regresa su resultado.\n",
    "    \"\"\"\n",
    "    return  pos_y.subs({d2: d_2 , d3: d_3,  theta2 : angulo_eslabon_1, theta3 : angulo_eslabon_2})\n",
    "\n",
    "def get_posicion_z(desplazamiento_corredera, desplazamiento_efector_final):\n",
    "    \"\"\"\n",
    "    Resuelve la ecuacion de posicion en el eje z, y regresa su resultado.\n",
    "    \"\"\"\n",
    "    #Dada la simplicidad de la ecuacion de posicion en Z , se reajusta con una distancia producto de los ensambles no contemplados anteriormente.\n",
    "    ajuste_z = pos_z.subs({l1 : desplazamiento_corredera, l4 : desplazamiento_efector_final}) + 0.1196 #ajuste en mm, 1.196 * 10 a la -1\n",
    "    return  ajuste_z\n",
    "\n",
    "def get_posicion_cinematica_directa(angulo_eslabon_1,angulo_eslabon_2,desplazamiento_corredera,desplazamiento_efector_final):\n",
    "    \"\"\"\n",
    "    Regresa el vector posicion x,y,z. Este vector representa los resultados de los calculos matematicos, son una aproximacion\n",
    "    al valor que deberia tener la punta final del efector final.\n",
    "    \n",
    "    \"\"\"\n",
    "    vector_posicion_final = sp.Matrix([[get_posicion_x(angulo_eslabon_1,angulo_eslabon_2)],\n",
    "                                      [get_posicion_y(angulo_eslabon_1,angulo_eslabon_2)],\n",
    "                                      [get_posicion_z(desplazamiento_corredera,desplazamiento_efector_final)]])\n",
    "    return vector_posicion_final\n",
    "\n"
   ]
  },
  {
   "cell_type": "markdown",
   "metadata": {},
   "source": [
    "#### 6.- Obtener el espacio del robot.\n",
    "\n",
    "Evaluaremos la posicion numerica de nuestro robot, dadas las ecuaciones de cinematica directa."
   ]
  },
  {
   "cell_type": "code",
   "execution_count": 94,
   "metadata": {},
   "outputs": [
    {
     "data": {
      "image/png": "[encoded data removed]",
      "text/plain": [
       "<Figure size 432x288 with 1 Axes>"
      ]
     },
     "metadata": {
      "needs_background": "light"
     },
     "output_type": "display_data"
    },
    {
     "data": {
      "image/png": "[encoded data removed]",
      "text/plain": [
       "<Figure size 432x288 with 1 Axes>"
      ]
     },
     "metadata": {
      "needs_background": "light"
     },
     "output_type": "display_data"
    },
    {
     "data": {
      "image/png": "[encoded data removed]",
      "text/plain": [
       "<Figure size 432x288 with 1 Axes>"
      ]
     },
     "metadata": {
      "needs_background": "light"
     },
     "output_type": "display_data"
    }
   ],
   "source": [
    "import matplotlib.pyplot as plt\n",
    "%matplotlib inline\n",
    "import numpy as np\n",
    "d2r = np.deg2rad\n",
    "\n",
    "#Se evaluaran las funciones de posicion con sus respectivas variables\n",
    "\n",
    "fx = sp.lambdify((d1, d2, d3, theta2, theta3), pos_x, 'numpy')\n",
    "fy = sp.lambdify((d2, d3, theta2, theta3), pos_y, 'numpy')\n",
    "fz = sp.lambdify((l1,l4), pos_z, 'numpy')\n",
    "\n",
    "\n",
    "#Definimos las muestras de nuestro espacio, estan en este caso basadas en los GDL del robot\n",
    "\n",
    "theta2s = np.linspace(d2r(-90), d2r(90)) # desired range of motion for joint 1\n",
    "theta3s = np.linspace(d2r(-90), d2r(90)) # desired range of motion for joint 2\n",
    "l1s = np.linspace(0, 0.3) # desired range of motion for joint 2\n",
    "l4s = np.linspace(-0.04,0) # desired range of motion for joint 2\n",
    "\n",
    "zx = np.array(fx(d_1,d_2,d_3, theta2s, theta3s))\n",
    "zy = np.array(fy(d_2, d_3, theta2s, theta3s))\n",
    "zz = np.array(fz(l1s,l4s))\n",
    "\n",
    "zz = zz + 0.1196 #ajustamos el valor de z\n",
    "\n",
    "\n",
    "fig, ax1 = plt.subplots()\n",
    "ax1.set_title('Posiciones en X')\n",
    "ax1.plot(np.rad2deg(theta1s), zx, label = r'$p_x$')\n",
    "ax1.set_xlabel(r'($\\theta_2$, $\\theta_3$) [deg]')\n",
    "ax1.set_ylabel(r' posicion en x [mm]')\n",
    "plt.legend()\n",
    "plt.grid()\n",
    "\n",
    "fig, ax2 = plt.subplots()\n",
    "ax2.set_title('Posiciones en Y')\n",
    "ax2.plot(np.rad2deg(theta2s), zy, label = r'$p_y$')\n",
    "ax2.set_xlabel(r'($\\theta_1$, $\\theta_2$) [deg]')\n",
    "ax2.set_ylabel(r' posicion en y [mm]')\n",
    "plt.legend()\n",
    "plt.grid()\n",
    "\n",
    "fig, ax3 = plt.subplots()\n",
    "ax3.set_title('Posiciones en Z')\n",
    "ax3.plot(l1s, zz, label = r'$p_z$')\n",
    "ax3.set_xlabel(r'($\\l_1$, $\\l_4$) [mm]')\n",
    "ax3.set_ylabel(r' posicion en z [mm]')\n",
    "plt.legend()\n",
    "plt.grid()\n"
   ]
  },
  {
   "cell_type": "markdown",
   "metadata": {},
   "source": [
    "## Seccion 3.-  Ejecutando la primera simulacion y calculo de error.\n",
    "\n",
    "Una vez conseguidas las ecuaciones correspondientes, los metodos y funciones necesarias para generar un movimiento controladp en el robot se ejecuta el siguiente codigo.<br><br>\n",
    "\n",
    "<li>Se colocara al robot en una posicion mediante los metodos explicados en la seccion 1.</li>\n",
    "<li>Posterior a eso se calculara con los mismos angulos y traslaciones indicadas la posicion final que deberia tener en teoria nuestro modelo robotico basados en los metodos de la seccion 2.</li>\n",
    "\n",
    "<br>\n",
    "Para ello debemos considerar: <br>\n",
    "<li>A1 = Al angulo que tomara el eslabon 1.</li>\n",
    "<li>A2 = Al angulo que tomara el eslabon 2.</li>\n",
    "<li>LC = Dezplazamiento que tomara la corredera en el eje Z.</li>\n",
    "<li>LF = Dezplazamiento que tomara el efector final en el eje Z.</li>\n"
   ]
  },
  {
   "cell_type": "code",
   "execution_count": 134,
   "metadata": {},
   "outputs": [
    {
     "name": "stdout",
     "output_type": "stream",
     "text": [
      "conectado a 19999\n"
     ]
    },
    {
     "data": {
      "text/latex": [
       "$\\displaystyle \\left[\\begin{matrix}0.58801 & 0 & 0.4596\\end{matrix}\\right]$"
      ],
      "text/plain": [
       "Matrix([[0.58801, 0, 0.4596]])"
      ]
     },
     "execution_count": 134,
     "metadata": {},
     "output_type": "execute_result"
    }
   ],
   "source": [
    "# Conectamos con CoppeliaSim\n",
    "clientID = connect(19999)\n",
    "\n",
    "#Variables para simulacion y calculos\n",
    "\n",
    "A1 = 0 #Grados , eslabon 1.\n",
    "A2 = 0#Grados, eslabon 2.\n",
    "LC = 0.3 # mm, movimiento en z, corredera.\n",
    "LF = 0.04 # mm, movimiento en z, efector final.\n",
    "\n",
    "#ejecutamos en la simulacion un movimiento\n",
    "mover_robot_cinematica_directa(A1,A2,LC,LF)\n",
    "#Calculamos por cinematica directa la posicion del efector final \n",
    "pos_cinematica_directa = get_posicion_cinematica_directa(A1,A2,LC,LF)\n",
    "pos_cinematica_directa = pos_cinematica_directa.transpose() # posicion calculada para [x,y,z] respectivamente\n",
    "pos_cinematica_directa"
   ]
  },
  {
   "cell_type": "markdown",
   "metadata": {},
   "source": [
    "Una vez llegado al punto deseado obtenemos la posicion del dummy para comprobar que los calculos esten correctos"
   ]
  },
  {
   "cell_type": "code",
   "execution_count": 136,
   "metadata": {},
   "outputs": [
    {
     "data": {
      "text/latex": [
       "$\\displaystyle \\left[ 0.5645363330841064, \\  -0.012711401097476482, \\  0.4200233817100525\\right]$"
      ],
      "text/plain": [
       "[0.5645363330841064, -0.012711401097476482, 0.4200233817100525]"
      ]
     },
     "execution_count": 136,
     "metadata": {},
     "output_type": "execute_result"
    }
   ],
   "source": [
    "#Obtenemos la posicion real del efector fin en la simulacion, del dummy , [x,y,z] respectivamente\n",
    "pos_sim = get_posicion_dummy()[1]\n",
    "pos_sim"
   ]
  },
  {
   "cell_type": "markdown",
   "metadata": {},
   "source": [
    "Calculamos el error entre el valor calculado y el valor real en la simulacion"
   ]
  },
  {
   "cell_type": "code",
   "execution_count": 148,
   "metadata": {},
   "outputs": [
    {
     "name": "stdout",
     "output_type": "stream",
     "text": [
      "Error absoluto en X : 0.0234736669158935\n",
      "Error absoluto en Y : 0.0127114010974765\n",
      "Error absoluto en Z : 0.0395766182899475\n",
      "Error del valor calculado con respecto al real en X, es de : 4.15804360857608 %\n",
      "Error del valor calculado con respecto al real en Y, es de : 2.25165332194530 %\n",
      "Error del valor calculado con respecto al real en Z, es de : 7.01046433517171 %\n"
     ]
    }
   ],
   "source": [
    "#Se calcula el error absoluto\n",
    "error_x = abs(pos_sim[0] - pos_cinematica_directa[0]) # error en mm respecto del valor calculado\n",
    "error_y = abs(pos_sim[1] - pos_cinematica_directa[1]) # error en mm respecto del valor calculado\n",
    "error_z = abs(pos_sim[2] - pos_cinematica_directa[2]) # error en mm respecto del valor calculado\n",
    "print(f'Error absoluto en X : {error_x}')\n",
    "print(f'Error absoluto en Y : {error_y}')\n",
    "print(f'Error absoluto en Z : {error_z}')\n",
    "\n",
    "#Se calcula el error relativo\n",
    "error_x = (error_x / pos_sim[0] )* 100\n",
    "error_y = (error_y / pos_sim[0] )* 100\n",
    "error_z = (error_z / pos_sim[0] )* 100\n",
    "\n",
    "print(f'Error del valor calculado con respecto al real en X, es de : {error_x} %')\n",
    "print(f'Error del valor calculado con respecto al real en Y, es de : {error_y} %')\n",
    "print(f'Error del valor calculado con respecto al real en Z, es de : {error_z} %')"
   ]
  },
  {
   "cell_type": "markdown",
   "metadata": {},
   "source": [
    "## Seccion 4 .- Simulaciones de muestra"
   ]
  },
  {
   "cell_type": "code",
   "execution_count": 153,
   "metadata": {},
   "outputs": [],
   "source": [
    "import time\n",
    "\n",
    "def delay(tiempo_en_segundos):\n",
    "    \"\"\"\n",
    "    Hace un retardo antes de seguir ejecutando el programa\n",
    "    \"\"\"\n",
    "    time.sleep(tiempo_en_segundos)   # Delays for 5 seconds. You can also use a float value.\n"
   ]
  },
  {
   "cell_type": "markdown",
   "metadata": {},
   "source": [
    "### Simulacion 1.- Juego de coordenadas preestablecidas"
   ]
  },
  {
   "cell_type": "code",
   "execution_count": null,
   "metadata": {},
   "outputs": [],
   "source": []
  }
 ],
 "metadata": {
  "kernelspec": {
   "display_name": "Python 3",
   "language": "python",
   "name": "python3"
  },
  "language_info": {
   "codemirror_mode": {
    "name": "ipython",
    "version": 3
   },
   "file_extension": ".py",
   "mimetype": "text/x-python",
   "name": "python",
   "nbconvert_exporter": "python",
   "pygments_lexer": "ipython3",
   "version": "3.7.6"
  }
 },
 "nbformat": 4,
 "nbformat_minor": 2
}
