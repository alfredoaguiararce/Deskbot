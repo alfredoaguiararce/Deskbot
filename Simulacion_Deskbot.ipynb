{
 "cells": [
  {
   "cell_type": "markdown",
   "metadata": {},
   "source": [
    "## Desarrollo de algoritmo para simulación.\n",
    "<br>\n",
    "<p>El desarrollo de este algoritmo fue llevado a cabo durante el semestre agosto-diciembre 2020, como parte de la asignatura de robotica.</p>\n",
    "<br>\n",
    "<p>\n",
    "    <li>Alumno : Jose Alfredo de Jesus Aguiar Arce.</li>\n",
    "    <li>Numero de control : 15400806.</li>\n",
    "    <li>Materia : Robotica.</li>\n",
    "    <li>Maestro : Dr. Antonio Guzman Navarrete.</li>\n",
    "</p>\n",
    "\n",
    "<br>Requiere que los archivos 'sim.py', 'simConst.py', 'remoteapi.dll' estén alojados en la misma carpeta que este cuaderno de Jupyter.\n",
    "<br>Desde CoppeliaSim, abrir la escena 'DeskBot_scena.ttt'\n",
    "\n",
    "### Instrucciones para preparar la simulacion.\n",
    "<br>1. Abra la escena 'DeskBot_scena.ttt'\n",
    "<br>2. Seleccionando la base del robot desde la jerarquía de escena, presione botón derecho del mouse y agregue un archivo de script mediante <b> Add -> Associated child script -> Non threaded </b>. Aparecerá un pequeño ícono de documento junto al nombre del robot en la escena de jerarquía.\n",
    "<br>3. En el script es posible incluir código de programación, escritos en lenguaje LUA. Para nuestro caso, todo el código que requeriremos es habilitar el API remoto, asignando un puerto de comunicación. En la función <b>sysCall_init()</b> agregue la siguiente línea:\n",
    "<br> \n",
    "<font face = \"Monospace\"> <pre> simRemoteApi.start(19999)</font>\n",
    "<br> Proceda a continuación con las actividades:"
   ]
  },
  {
   "cell_type": "code",
   "execution_count": 23,
   "metadata": {},
   "outputs": [],
   "source": [
    "# importamos las librerías necesarias\n",
    "import sim          # librería para conectar con CoppeliaSim\n",
    "import sympy as sp  # librería para cálculo simbólico\n",
    "import numpy as np"
   ]
  },
  {
   "cell_type": "markdown",
   "metadata": {},
   "source": [
    "<p>Configuraciones del servidor local</p>"
   ]
  },
  {
   "cell_type": "code",
   "execution_count": 32,
   "metadata": {},
   "outputs": [],
   "source": [
    "#Variables para configurar entorno del servidor y port\n",
    "localhost = '127.0.0.1'  #Servidor local de la computadora\n",
    "port = 19999  #Puerto para coneccion con V-rep"
   ]
  },
  {
   "cell_type": "markdown",
   "metadata": {},
   "source": [
    "### Configuramos el servidor y el port\n",
    "\n",
    "El siguiente codigo deberia ejecutarse una vez que se presiona play en la simulacion, de funcionar correctamente el cliente quedara conectado con la API de V-rep."
   ]
  },
  {
   "cell_type": "code",
   "execution_count": 61,
   "metadata": {},
   "outputs": [],
   "source": [
    "def connect(port):\n",
    "# Establece la conexión a VREP\n",
    "# port debe coincidir con el puerto de conexión en VREP\n",
    "# retorna el número de cliente o -1 si no puede establecer conexión\n",
    "    sim.simxFinish(-1) # Cierra ports abiertos en caso de haber\n",
    "    clientID=sim.simxStart(localhost,port,True,True,2000,5) # Conectarse\n",
    "    if clientID == 0: print(\"conectado a\", port)\n",
    "    else: print(\"no se pudo conectar\")\n",
    "    return clientID\n"
   ]
  },
  {
   "cell_type": "code",
   "execution_count": 357,
   "metadata": {},
   "outputs": [
    {
     "name": "stdout",
     "output_type": "stream",
     "text": [
      "conectado a 19999\n"
     ]
    }
   ],
   "source": [
    "# Requerimos los manejadores para las articulaciones y el Dummy\n",
    "clientID = connect(19999)"
   ]
  },
  {
   "cell_type": "markdown",
   "metadata": {},
   "source": [
    "### Configuramos el programa y obtenemos objetos de la simulacion.\n",
    "\n",
    "obtendermos las juntas y objetos de la simulacion para asignarlos a variables con las que nos podremos referir en el codigo.\n",
    "De esta forma trabajaremos con POO (Programacion Orientada a Objetos) en nuestro programa."
   ]
  },
  {
   "cell_type": "code",
   "execution_count": 358,
   "metadata": {},
   "outputs": [
    {
     "name": "stdout",
     "output_type": "stream",
     "text": [
      "EL ID de junta_1 = 17, el ID de junta_2 = 18\n",
      "El ID de corredera es = 16\n"
     ]
    }
   ],
   "source": [
    "# Obtenemos el manejador de las juntas (joints)\n",
    "returnCode,junta_1 = sim.simxGetObjectHandle(clientID,'eslabon_1',sim.simx_opmode_blocking)\n",
    "returnCode,junta_2 = sim.simxGetObjectHandle(clientID,'eslabon_2',sim.simx_opmode_blocking)\n",
    "#Imprimimos los id de cada junta\n",
    "print(f\"EL ID de junta_1 = {junta_1}, el ID de junta_2 = {junta_2}\")\n",
    "\n",
    "#Obtenemos el manejador de la corredera que se coloca en la base\n",
    "returnCode,corredera = sim.simxGetObjectHandle(clientID,'Corredera',sim.simx_opmode_blocking)\n",
    "#Imprimimos el id de la corredera\n",
    "print(f\"El ID de corredera es = {corredera}\")"
   ]
  },
  {
   "cell_type": "markdown",
   "metadata": {},
   "source": [
    "### Posicionamiento \n",
    "\n",
    "Funciones y demostraciones sobre el como se realiza la simulacion sin entrar en detalles de cinematica aun."
   ]
  },
  {
   "cell_type": "code",
   "execution_count": 339,
   "metadata": {},
   "outputs": [
    {
     "name": "stdout",
     "output_type": "stream",
     "text": [
      "1\n"
     ]
    }
   ],
   "source": [
    "#la posicion para juntas revolutas se asignara mediante grados \n",
    "#Los angulos deben enviarse en radianes, dado que se trabaja con grados se usara la expresion de la manera siguiente\n",
    "# angulo_en_radianes = angulo_en_grados * pi / 180\n",
    "\n",
    "angulo_1 = 90 * np.pi/180  #El angulo convertido a radianes para la junta 1.\n",
    "angulo_2 = 0* np.pi/180 #El angulo convertido a radianes para la junta 2.\n",
    "\n",
    "retCode = sim.simxSetJointTargetPosition(clientID, junta_1, angulo_1, sim.simx_opmode_oneshot)\n",
    "retCode = sim.simxSetJointTargetPosition(clientID, junta_2, angulo_2, sim.simx_opmode_oneshot)\n",
    "\n",
    "#La posicion para juntas prismaticas se asignara representada en distancia.\n",
    "#La distancia debe ser representada entre [pos.min] y [pos.range] , ambos parametros que se han definido en la simulacion, \n",
    "#asignados al elemento (joint) corredera.\n",
    "\n",
    "#Dado que se debe encontrar expresado en Metros la ecuacion sera la siguiente\n",
    "#distancia_en_metros = distancia / 100\n",
    "#Para esta configuracion distancia debe ir de 0-30\n",
    "distancia = 0 / 100 \n",
    "\n",
    "retCode = sim.simxSetJointTargetPosition(clientID, corredera,distancia, sim.simx_opmode_oneshot)\n",
    "print(retCode)"
   ]
  },
  {
   "cell_type": "markdown",
   "metadata": {},
   "source": [
    "Dadas las observaciones anteriores se escribieron dos metodos para ahorrar escritura y simplificar la implementacion"
   ]
  },
  {
   "cell_type": "code",
   "execution_count": 355,
   "metadata": {},
   "outputs": [
    {
     "data": {
      "text/plain": [
       "1"
      ]
     },
     "execution_count": 355,
     "metadata": {},
     "output_type": "execute_result"
    }
   ],
   "source": [
    "def mover_junta_revoluta(junta,angulo):\n",
    "    \"\"\"\n",
    "    Esta funcion permite realizar una rotacion en la junta revoluta desde el angulo actual hasta el deseado (grados)\n",
    "    \"\"\"\n",
    "    radianes = angulo * np.pi/180\n",
    "    return sim.simxSetJointTargetPosition(clientID, junta, radianes, sim.simx_opmode_oneshot)\n",
    "\n",
    "#Ejemplo de como se usa este metodo\n",
    "mover_junta_revoluta(junta_1,0)\n",
    "mover_junta_revoluta(junta_2,90)\n",
    "\n",
    "def mover_junta_prismatica(junta,distancia_desde_origen):\n",
    "    \"\"\"\n",
    "    Esta funcion permite realizar un dezplazamiento en la junta prismatica (debe estar expresada en centimetros)\n",
    "    en un rango entre [Pos Min - Pos Range] de la junta prismatica en cuestion\n",
    "    \"\"\"\n",
    "    distancia = distancia_desde_origen / 100\n",
    "    return sim.simxSetJointTargetPosition(clientID, corredera,distancia, sim.simx_opmode_oneshot)\n",
    "\n",
    "#Ejemplo de como se usa este metodo\n",
    "mover_junta_prismatica(corredera,0)"
   ]
  }
 ],
 "metadata": {
  "kernelspec": {
   "display_name": "Python 3",
   "language": "python",
   "name": "python3"
  },
  "language_info": {
   "codemirror_mode": {
    "name": "ipython",
    "version": 3
   },
   "file_extension": ".py",
   "mimetype": "text/x-python",
   "name": "python",
   "nbconvert_exporter": "python",
   "pygments_lexer": "ipython3",
   "version": "3.7.6"
  }
 },
 "nbformat": 4,
 "nbformat_minor": 2
}
